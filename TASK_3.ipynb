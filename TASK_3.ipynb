{
 "cells": [
  {
   "cell_type": "code",
   "execution_count": 4,
   "id": "e85778a5-26f6-4f12-ac8e-6f81622c2c9e",
   "metadata": {},
   "outputs": [],
   "source": [
    "a=10\n",
    "b=5"
   ]
  },
  {
   "cell_type": "code",
   "execution_count": 2,
   "id": "5e30265d-44f4-49a4-8b4b-c56418c17754",
   "metadata": {},
   "outputs": [
    {
     "name": "stdout",
     "output_type": "stream",
     "text": [
      "15\n"
     ]
    }
   ],
   "source": [
    "add=a+b\n",
    "print(add)"
   ]
  },
  {
   "cell_type": "code",
   "execution_count": 3,
   "id": "0243b038-9492-4c45-8fc4-d4d3b0ded6a1",
   "metadata": {},
   "outputs": [
    {
     "name": "stdout",
     "output_type": "stream",
     "text": [
      "2.0\n"
     ]
    }
   ],
   "source": [
    "div=a/b\n",
    "print(a/b)"
   ]
  },
  {
   "cell_type": "code",
   "execution_count": 13,
   "id": "cf906471-28bb-4c05-8aa1-49a327fdd0d0",
   "metadata": {},
   "outputs": [
    {
     "name": "stdout",
     "output_type": "stream",
     "text": [
      "is 10 greater than 5?True\n",
      "is 10 equal to 5?(False\n"
     ]
    }
   ],
   "source": [
    "print(f\"is {a} greater than {b}?{a>b}\")\n",
    "print(f\"is {a} equal to {b}?({a==b}\")"
   ]
  },
  {
   "cell_type": "code",
   "execution_count": 10,
   "id": "5939ac26-62c9-4038-9a22-ad9cd9471ee6",
   "metadata": {},
   "outputs": [
    {
     "name": "stdout",
     "output_type": "stream",
     "text": [
      "Logical OR:True\n",
      "Logical AND:True\n"
     ]
    }
   ],
   "source": [
    "logical_and=a>b and b>0\n",
    "logical_or = a ==b or b>0\n",
    "print(f\"Logical OR:{logical_or}\")\n",
    "print(f\"Logical AND:{logical_and}\")"
   ]
  },
  {
   "cell_type": "code",
   "execution_count": null,
   "id": "2865ebf8-8de2-4a68-bde5-d36d5502661a",
   "metadata": {},
   "outputs": [],
   "source": []
  }
 ],
 "metadata": {
  "kernelspec": {
   "display_name": "Python 3 (ipykernel)",
   "language": "python",
   "name": "python3"
  },
  "language_info": {
   "codemirror_mode": {
    "name": "ipython",
    "version": 3
   },
   "file_extension": ".py",
   "mimetype": "text/x-python",
   "name": "python",
   "nbconvert_exporter": "python",
   "pygments_lexer": "ipython3",
   "version": "3.10.12"
  }
 },
 "nbformat": 4,
 "nbformat_minor": 5
}
