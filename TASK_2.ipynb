{
 "cells": [
  {
   "cell_type": "code",
   "execution_count": 1,
   "id": "b45b80d0-ee36-418d-9f15-53d14c6dd5d0",
   "metadata": {},
   "outputs": [
    {
     "name": "stdin",
     "output_type": "stream",
     "text": [
      "Enter the string:  Hello,World\n"
     ]
    }
   ],
   "source": [
    "string =input(\"Enter the string: \")"
   ]
  },
  {
   "cell_type": "code",
   "execution_count": 3,
   "id": "ba61887a-e583-4946-9537-86a033109cea",
   "metadata": {},
   "outputs": [],
   "source": [
    "sub_string =(string[6:11])"
   ]
  },
  {
   "cell_type": "code",
   "execution_count": 4,
   "id": "cbb07aaf-0105-436f-8690-ef2d114cc117",
   "metadata": {},
   "outputs": [
    {
     "name": "stdout",
     "output_type": "stream",
     "text": [
      "World\n"
     ]
    }
   ],
   "source": [
    "print(sub_string)"
   ]
  },
  {
   "cell_type": "code",
   "execution_count": 8,
   "id": "ab11bddc-281d-4bd8-809d-d80e2abd2c0d",
   "metadata": {},
   "outputs": [
    {
     "name": "stdout",
     "output_type": "stream",
     "text": [
      "Hello\n"
     ]
    }
   ],
   "source": [
    "sub_string2 =(string[0:5])\n",
    "print(sub_string2)"
   ]
  },
  {
   "cell_type": "code",
   "execution_count": 16,
   "id": "db366dfd-3a24-4d9e-9619-fd64c016a4bd",
   "metadata": {},
   "outputs": [
    {
     "name": "stdout",
     "output_type": "stream",
     "text": [
      "Hello Everyone\n"
     ]
    }
   ],
   "source": [
    "new_string =sub_string2+\" Everyone\"\n",
    "print(new_string)"
   ]
  },
  {
   "cell_type": "code",
   "execution_count": null,
   "id": "a34b579b-9611-4b04-8514-4bbfb31f8a5a",
   "metadata": {},
   "outputs": [],
   "source": []
  }
 ],
 "metadata": {
  "kernelspec": {
   "display_name": "Python 3 (ipykernel)",
   "language": "python",
   "name": "python3"
  },
  "language_info": {
   "codemirror_mode": {
    "name": "ipython",
    "version": 3
   },
   "file_extension": ".py",
   "mimetype": "text/x-python",
   "name": "python",
   "nbconvert_exporter": "python",
   "pygments_lexer": "ipython3",
   "version": "3.10.12"
  }
 },
 "nbformat": 4,
 "nbformat_minor": 5
}
