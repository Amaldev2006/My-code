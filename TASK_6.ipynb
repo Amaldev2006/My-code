{
 "cells": [
  {
   "cell_type": "code",
   "execution_count": 6,
   "id": "bcb4ccda-700a-4578-9451-cf3d70759c21",
   "metadata": {},
   "outputs": [
    {
     "name": "stdin",
     "output_type": "stream",
     "text": [
      "Enter your num1 1\n",
      "Enter your num2 2\n",
      "Enter your num3 3\n"
     ]
    },
    {
     "name": "stdout",
     "output_type": "stream",
     "text": [
      "The sum of num1 and num2 is:result 3\n",
      "The difference when num2 is substracted from num1 is:result 1\n",
      "The product of num1 and num2 is:result 2\n",
      "The quotient when num1 is divided by num2 is:result 0.5\n",
      "The remainder when num1 is divided by num2 is:result 1\n",
      "The result of (num1+num2)*num3/2 is:result 4.5\n"
     ]
    }
   ],
   "source": [
    "number1=int(input(\"Enter your num1\"))\n",
    "number2=int(input(\"Enter your num2\"))\n",
    "number3=int(input(\"Enter your num3\"))\n",
    "add=number1+number2\n",
    "print(\"The sum of num1 and num2 is:result\",add)\n",
    "sub=number2-number1\n",
    "print(\"The difference when num2 is substracted from num1 is:result\",sub)\n",
    "multi=number1*number2\n",
    "print(\"The product of num1 and num2 is:result\",multi)\n",
    "div=number1/number2\n",
    "print(\"The quotient when num1 is divided by num2 is:result\",div)\n",
    "mod=number1%number2\n",
    "print(\"The remainder when num1 is divided by num2 is:result\",mod)\n",
    "CAO=(number1+number2)*number3/2\n",
    "print(\"The result of (num1+num2)*num3/2 is:result\",CAO)"
   ]
  },
  {
   "cell_type": "code",
   "execution_count": null,
   "id": "c8142831-d343-4989-be1c-657a106ddd1c",
   "metadata": {},
   "outputs": [],
   "source": []
  }
 ],
 "metadata": {
  "kernelspec": {
   "display_name": "Python 3 (ipykernel)",
   "language": "python",
   "name": "python3"
  },
  "language_info": {
   "codemirror_mode": {
    "name": "ipython",
    "version": 3
   },
   "file_extension": ".py",
   "mimetype": "text/x-python",
   "name": "python",
   "nbconvert_exporter": "python",
   "pygments_lexer": "ipython3",
   "version": "3.10.12"
  }
 },
 "nbformat": 4,
 "nbformat_minor": 5
}
