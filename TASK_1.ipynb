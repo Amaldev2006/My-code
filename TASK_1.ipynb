{
 "cells": [
  {
   "cell_type": "code",
   "execution_count": 1,
   "id": "51f4b83f-f238-427e-a97c-1214ef3d6fb2",
   "metadata": {},
   "outputs": [
    {
     "name": "stdin",
     "output_type": "stream",
     "text": [
      "Enter your name:  Amal\n"
     ]
    }
   ],
   "source": [
    "name = input(\"Enter your name: \")"
   ]
  },
  {
   "cell_type": "code",
   "execution_count": 2,
   "id": "7e858cf9-4866-4685-88da-376dfcd42bbe",
   "metadata": {},
   "outputs": [
    {
     "name": "stdin",
     "output_type": "stream",
     "text": [
      "Enter your age:  25\n"
     ]
    }
   ],
   "source": [
    "age = input(\"Enter your age: \")"
   ]
  },
  {
   "cell_type": "code",
   "execution_count": 3,
   "id": "06cdbf18-cc55-4014-b21a-f530e196c7b0",
   "metadata": {},
   "outputs": [
    {
     "name": "stdout",
     "output_type": "stream",
     "text": [
      "Amal\n"
     ]
    }
   ],
   "source": [
    "print(name)"
   ]
  },
  {
   "cell_type": "code",
   "execution_count": 4,
   "id": "c7dd7e6e-5d3b-402a-9f9c-dd05e7af37f3",
   "metadata": {},
   "outputs": [
    {
     "name": "stdout",
     "output_type": "stream",
     "text": [
      "Hello name\n"
     ]
    }
   ],
   "source": [
    "print(\"Hello name\")"
   ]
  },
  {
   "cell_type": "code",
   "execution_count": 5,
   "id": "ff70e527-0d7c-413a-add8-4c99b9fb60ec",
   "metadata": {},
   "outputs": [
    {
     "name": "stdout",
     "output_type": "stream",
     "text": [
      "Hello Amal\n"
     ]
    }
   ],
   "source": [
    "print(\"Hello\", name)"
   ]
  },
  {
   "cell_type": "code",
   "execution_count": 8,
   "id": "57957dc7-ccc3-480e-9d86-f23f624f2812",
   "metadata": {},
   "outputs": [
    {
     "name": "stdout",
     "output_type": "stream",
     "text": [
      "Hello Amal ! you are 25 years old.\n"
     ]
    }
   ],
   "source": [
    "print(\"Hello\",name,\"! you are\",age,\"years old.\")"
   ]
  },
  {
   "cell_type": "code",
   "execution_count": 11,
   "id": "0210d6ef-aaad-4bf9-98a5-e1d720291b3a",
   "metadata": {},
   "outputs": [
    {
     "name": "stdout",
     "output_type": "stream",
     "text": [
      "Hello Amal! you are 25 years old.\n"
     ]
    }
   ],
   "source": [
    "print(f\"Hello {name}! you are {age} years old.\")"
   ]
  },
  {
   "cell_type": "code",
   "execution_count": null,
   "id": "ec3677d5-abcf-46b7-a6b8-50fe0c1a3adc",
   "metadata": {},
   "outputs": [],
   "source": []
  }
 ],
 "metadata": {
  "kernelspec": {
   "display_name": "Python 3 (ipykernel)",
   "language": "python",
   "name": "python3"
  },
  "language_info": {
   "codemirror_mode": {
    "name": "ipython",
    "version": 3
   },
   "file_extension": ".py",
   "mimetype": "text/x-python",
   "name": "python",
   "nbconvert_exporter": "python",
   "pygments_lexer": "ipython3",
   "version": "3.10.12"
  }
 },
 "nbformat": 4,
 "nbformat_minor": 5
}
