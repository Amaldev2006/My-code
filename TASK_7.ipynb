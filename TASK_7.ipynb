{
 "cells": [
  {
   "cell_type": "code",
   "execution_count": 5,
   "id": "c0d6e795-5170-43b5-ab1b-793379a7172a",
   "metadata": {},
   "outputs": [
    {
     "name": "stdin",
     "output_type": "stream",
     "text": [
      "Enter your first name John\n",
      "Enter your last name Doe\n"
     ]
    },
    {
     "name": "stdout",
     "output_type": "stream",
     "text": [
      "John Doe\n",
      " Doe\n"
     ]
    }
   ],
   "source": [
    "string1=input(\"Enter your first name\")\n",
    "string2=input(\"Enter your last name\")\n",
    "string=string1+\" \"+string2\n",
    "print(string)\n",
    "length=len(string)\n",
    "length1=len(string1)\n",
    "length2=len(string2)\n",
    "sub_length=length-length1\n",
    "sub_string=(string[length2+1:length])\n",
    "print(sub_string)"
   ]
  },
  {
   "cell_type": "code",
   "execution_count": null,
   "id": "67e61775-41b8-429f-9eb5-c2220919e2b9",
   "metadata": {},
   "outputs": [],
   "source": []
  }
 ],
 "metadata": {
  "kernelspec": {
   "display_name": "Python 3 (ipykernel)",
   "language": "python",
   "name": "python3"
  },
  "language_info": {
   "codemirror_mode": {
    "name": "ipython",
    "version": 3
   },
   "file_extension": ".py",
   "mimetype": "text/x-python",
   "name": "python",
   "nbconvert_exporter": "python",
   "pygments_lexer": "ipython3",
   "version": "3.10.12"
  }
 },
 "nbformat": 4,
 "nbformat_minor": 5
}
