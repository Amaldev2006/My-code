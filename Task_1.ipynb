{
 "cells": [
  {
   "cell_type": "code",
   "execution_count": 8,
   "id": "6c445683-cd38-4a59-acdd-1c32bf50d406",
   "metadata": {},
   "outputs": [
    {
     "name": "stdin",
     "output_type": "stream",
     "text": [
      "Enter temperature: 100\n",
      "is this in (C)elsius or (F)ahrenheit: C\n"
     ]
    },
    {
     "name": "stdout",
     "output_type": "stream",
     "text": [
      "100.0 celsius is 212.0 fahrenheit\n"
     ]
    }
   ],
   "source": [
    "c=float(input(\"Enter temperature:\"))\n",
    "ask_1=input(\"is this in (C)elsius or (F)ahrenheit:\")\n",
    "if ask_1== 'C':\n",
    "    fahrenheit=(9/5*c)+32\n",
    "    print(f\"{c} celsius is {fahrenheit} fahrenheit\")\n",
    "elif ask_1=='F':\n",
    "    celsius=5/9*(c-9)\n",
    "    print(f\"{c} fahrenheit is {celsius} celsius\")"
   ]
  },
  {
   "cell_type": "code",
   "execution_count": null,
   "id": "490f9cd8-da27-41aa-b370-81a2ebe0f8e8",
   "metadata": {},
   "outputs": [],
   "source": []
  }
 ],
 "metadata": {
  "kernelspec": {
   "display_name": "Python 3 (ipykernel)",
   "language": "python",
   "name": "python3"
  },
  "language_info": {
   "codemirror_mode": {
    "name": "ipython",
    "version": 3
   },
   "file_extension": ".py",
   "mimetype": "text/x-python",
   "name": "python",
   "nbconvert_exporter": "python",
   "pygments_lexer": "ipython3",
   "version": "3.10.12"
  }
 },
 "nbformat": 4,
 "nbformat_minor": 5
}
